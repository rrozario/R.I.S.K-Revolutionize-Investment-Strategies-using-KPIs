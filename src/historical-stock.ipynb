{
 "cells": [
  {
   "cell_type": "code",
   "execution_count": 1,
   "metadata": {},
   "outputs": [
    {
     "name": "stderr",
     "output_type": "stream",
     "text": [
      "/opt/anaconda3/lib/python3.7/site-packages/fuzzywuzzy/fuzz.py:11: UserWarning: Using slow pure-python SequenceMatcher. Install python-Levenshtein to remove this warning\n",
      "  warnings.warn('Using slow pure-python SequenceMatcher. Install python-Levenshtein to remove this warning')\n"
     ]
    }
   ],
   "source": [
    "import requests\n",
    "from bs4 import BeautifulSoup\n",
    "import numpy as np\n",
    "import pandas as pd\n",
    "import re\n",
    "import time\n",
    "from fuzzywuzzy import process"
   ]
  },
  {
   "cell_type": "code",
   "execution_count": 2,
   "metadata": {},
   "outputs": [],
   "source": [
    "import warnings\n",
    "warnings.filterwarnings('ignore')"
   ]
  },
  {
   "cell_type": "code",
   "execution_count": 3,
   "metadata": {},
   "outputs": [],
   "source": [
    "dff = pd.read_csv(\"output.csv\")"
   ]
  },
  {
   "cell_type": "code",
   "execution_count": 4,
   "metadata": {},
   "outputs": [],
   "source": [
    "def getCompany(text):\n",
    "    r = requests.get('https://api.iextrading.com/1.0/ref-data/symbols')\n",
    "    stockList = r.json()\n",
    "    return process.extractOne(text, stockList)[0]\n",
    "\n",
    "dff['Ticker'] = dff['Name'].apply(lambda x: getCompany(x)[\"symbol\"])"
   ]
  },
  {
   "cell_type": "code",
   "execution_count": 5,
   "metadata": {},
   "outputs": [
    {
     "data": {
      "text/html": [
       "<div>\n",
       "<style scoped>\n",
       "    .dataframe tbody tr th:only-of-type {\n",
       "        vertical-align: middle;\n",
       "    }\n",
       "\n",
       "    .dataframe tbody tr th {\n",
       "        vertical-align: top;\n",
       "    }\n",
       "\n",
       "    .dataframe thead th {\n",
       "        text-align: right;\n",
       "    }\n",
       "</style>\n",
       "<table border=\"1\" class=\"dataframe\">\n",
       "  <thead>\n",
       "    <tr style=\"text-align: right;\">\n",
       "      <th></th>\n",
       "      <th>Unnamed: 0</th>\n",
       "      <th>Name</th>\n",
       "      <th>val</th>\n",
       "      <th>Article Title</th>\n",
       "      <th>Ticker</th>\n",
       "    </tr>\n",
       "  </thead>\n",
       "  <tbody>\n",
       "    <tr>\n",
       "      <th>0</th>\n",
       "      <td>0</td>\n",
       "      <td>Netflix</td>\n",
       "      <td>0.172789</td>\n",
       "      <td>[\"Meditation at dawn, miso soup for lunch, fit...</td>\n",
       "      <td>NFLX</td>\n",
       "    </tr>\n",
       "    <tr>\n",
       "      <th>1</th>\n",
       "      <td>1</td>\n",
       "      <td>Disney</td>\n",
       "      <td>0.150570</td>\n",
       "      <td>['Florida police chief is suspended for \\'sayi...</td>\n",
       "      <td>DIS</td>\n",
       "    </tr>\n",
       "    <tr>\n",
       "      <th>2</th>\n",
       "      <td>2</td>\n",
       "      <td>Deere</td>\n",
       "      <td>0.128416</td>\n",
       "      <td>[\"Trump urges Americans to 'celebrate Easter a...</td>\n",
       "      <td>DE</td>\n",
       "    </tr>\n",
       "    <tr>\n",
       "      <th>3</th>\n",
       "      <td>3</td>\n",
       "      <td>Abbott Laboratories</td>\n",
       "      <td>0.123087</td>\n",
       "      <td>[\"'I'm banging my head against a wall': New Ha...</td>\n",
       "      <td>ABT</td>\n",
       "    </tr>\n",
       "    <tr>\n",
       "      <th>4</th>\n",
       "      <td>4</td>\n",
       "      <td>Walmart</td>\n",
       "      <td>0.119916</td>\n",
       "      <td>['Demand for thermal cameras soars as corporat...</td>\n",
       "      <td>WMT</td>\n",
       "    </tr>\n",
       "    <tr>\n",
       "      <th>5</th>\n",
       "      <td>5</td>\n",
       "      <td>Tyson Foods</td>\n",
       "      <td>0.119916</td>\n",
       "      <td>['Demand for thermal cameras soars as corporat...</td>\n",
       "      <td>TSN</td>\n",
       "    </tr>\n",
       "    <tr>\n",
       "      <th>6</th>\n",
       "      <td>6</td>\n",
       "      <td>Amazon.com</td>\n",
       "      <td>0.119916</td>\n",
       "      <td>['Demand for thermal cameras soars as corporat...</td>\n",
       "      <td>AMZN</td>\n",
       "    </tr>\n",
       "    <tr>\n",
       "      <th>7</th>\n",
       "      <td>7</td>\n",
       "      <td>Intel</td>\n",
       "      <td>0.114728</td>\n",
       "      <td>[\"Russia develops world's DEADLIEST sniper rif...</td>\n",
       "      <td>AIO</td>\n",
       "    </tr>\n",
       "    <tr>\n",
       "      <th>8</th>\n",
       "      <td>8</td>\n",
       "      <td>Microsoft</td>\n",
       "      <td>0.111002</td>\n",
       "      <td>[\"'Governments were NOT ready for coronavirus'...</td>\n",
       "      <td>MSFT</td>\n",
       "    </tr>\n",
       "    <tr>\n",
       "      <th>9</th>\n",
       "      <td>9</td>\n",
       "      <td>Dana</td>\n",
       "      <td>0.109763</td>\n",
       "      <td>[\"Amy Klobuchar 'has the best odds' of being n...</td>\n",
       "      <td>DAC</td>\n",
       "    </tr>\n",
       "  </tbody>\n",
       "</table>\n",
       "</div>"
      ],
      "text/plain": [
       "   Unnamed: 0                 Name       val  \\\n",
       "0           0              Netflix  0.172789   \n",
       "1           1               Disney  0.150570   \n",
       "2           2                Deere  0.128416   \n",
       "3           3  Abbott Laboratories  0.123087   \n",
       "4           4              Walmart  0.119916   \n",
       "5           5          Tyson Foods  0.119916   \n",
       "6           6           Amazon.com  0.119916   \n",
       "7           7                Intel  0.114728   \n",
       "8           8            Microsoft  0.111002   \n",
       "9           9                 Dana  0.109763   \n",
       "\n",
       "                                       Article Title Ticker  \n",
       "0  [\"Meditation at dawn, miso soup for lunch, fit...   NFLX  \n",
       "1  ['Florida police chief is suspended for \\'sayi...    DIS  \n",
       "2  [\"Trump urges Americans to 'celebrate Easter a...     DE  \n",
       "3  [\"'I'm banging my head against a wall': New Ha...    ABT  \n",
       "4  ['Demand for thermal cameras soars as corporat...    WMT  \n",
       "5  ['Demand for thermal cameras soars as corporat...    TSN  \n",
       "6  ['Demand for thermal cameras soars as corporat...   AMZN  \n",
       "7  [\"Russia develops world's DEADLIEST sniper rif...    AIO  \n",
       "8  [\"'Governments were NOT ready for coronavirus'...   MSFT  \n",
       "9  [\"Amy Klobuchar 'has the best odds' of being n...    DAC  "
      ]
     },
     "execution_count": 5,
     "metadata": {},
     "output_type": "execute_result"
    }
   ],
   "source": [
    "dff"
   ]
  },
  {
   "cell_type": "code",
   "execution_count": 6,
   "metadata": {},
   "outputs": [],
   "source": [
    "final = pd.DataFrame(columns=['Date', 'Open', 'High', 'Low', 'Close', 'Volume', 'Dividends','Stock Splits', 'Name'])\n"
   ]
  },
  {
   "cell_type": "markdown",
   "metadata": {},
   "source": [
    "# Extract historical stock data using yfinance"
   ]
  },
  {
   "cell_type": "code",
   "execution_count": 7,
   "metadata": {},
   "outputs": [],
   "source": [
    "import yfinance as yf\n",
    "\n",
    "for i in range(0,len(dff)):#define the ticker symbol\n",
    "    tickerSymbol = dff[\"Ticker\"][i]\n",
    "\n",
    "#get data on this ticker\n",
    "    tickerData = yf.Ticker(tickerSymbol)\n",
    "\n",
    "#get the historical prices for this ticker\n",
    "    tickerDf = tickerData.history(period='1y', start='2019-01-01', end='2020-01-01')\n",
    "\n",
    "#see your data\n",
    "    tickerDf[\"Name\"] = dff[\"Name\"][i]\n",
    "    tickerDf.reset_index(level=0,inplace=True)\n",
    "    final = final.append(tickerDf, ignore_index = True) \n",
    "    final.to_csv(\"tableau.csv\", sep=',', index=False)\n"
   ]
  }
 ],
 "metadata": {
  "kernelspec": {
   "display_name": "Python 3",
   "language": "python",
   "name": "python3"
  },
  "language_info": {
   "codemirror_mode": {
    "name": "ipython",
    "version": 3
   },
   "file_extension": ".py",
   "mimetype": "text/x-python",
   "name": "python",
   "nbconvert_exporter": "python",
   "pygments_lexer": "ipython3",
   "version": "3.7.4"
  }
 },
 "nbformat": 4,
 "nbformat_minor": 4
}
